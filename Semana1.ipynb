{
 "cells": [
  {
   "cell_type": "markdown",
   "id": "c3509150",
   "metadata": {},
   "source": [
    "Comments"
   ]
  },
  {
   "cell_type": "code",
   "execution_count": 1,
   "id": "1d18dce1",
   "metadata": {},
   "outputs": [],
   "source": [
    "#Este es un comentario"
   ]
  },
  {
   "cell_type": "code",
   "execution_count": 2,
   "id": "3e8055b2",
   "metadata": {},
   "outputs": [
    {
     "data": {
      "text/plain": [
       "4"
      ]
     },
     "execution_count": 2,
     "metadata": {},
     "output_type": "execute_result"
    }
   ],
   "source": [
    "2 + 2"
   ]
  },
  {
   "cell_type": "code",
   "execution_count": 3,
   "id": "c44de5cf",
   "metadata": {},
   "outputs": [],
   "source": [
    "#Data types"
   ]
  },
  {
   "cell_type": "code",
   "execution_count": 6,
   "id": "f6f419fa",
   "metadata": {},
   "outputs": [
    {
     "data": {
      "text/plain": [
       "0"
      ]
     },
     "execution_count": 6,
     "metadata": {},
     "output_type": "execute_result"
    }
   ],
   "source": [
    "5\n",
    "10\n",
    "-20\n",
    "0"
   ]
  },
  {
   "cell_type": "code",
   "execution_count": 9,
   "id": "dec1eae8",
   "metadata": {},
   "outputs": [
    {
     "data": {
      "text/plain": [
       "-4.9576655"
      ]
     },
     "execution_count": 9,
     "metadata": {},
     "output_type": "execute_result"
    }
   ],
   "source": [
    "3.143592\n",
    "9.99\n",
    "-4.9576655"
   ]
  },
  {
   "cell_type": "code",
   "execution_count": 11,
   "id": "328c3841",
   "metadata": {},
   "outputs": [
    {
     "data": {
      "text/plain": [
       "'Hello'"
      ]
     },
     "execution_count": 11,
     "metadata": {},
     "output_type": "execute_result"
    }
   ],
   "source": [
    "\"Felipe\"\n",
    "\"Hello\""
   ]
  },
  {
   "cell_type": "code",
   "execution_count": 12,
   "id": "53fc3e6e",
   "metadata": {},
   "outputs": [
    {
     "data": {
      "text/plain": [
       "'100.10'"
      ]
     },
     "execution_count": 12,
     "metadata": {},
     "output_type": "execute_result"
    }
   ],
   "source": [
    "\"100.10\""
   ]
  },
  {
   "cell_type": "code",
   "execution_count": 13,
   "id": "90d57e63",
   "metadata": {},
   "outputs": [
    {
     "data": {
      "text/plain": [
       "'$100 pesos'"
      ]
     },
     "execution_count": 13,
     "metadata": {},
     "output_type": "execute_result"
    }
   ],
   "source": [
    "\"$100 pesos\""
   ]
  },
  {
   "cell_type": "code",
   "execution_count": 14,
   "id": "805f943d",
   "metadata": {},
   "outputs": [
    {
     "data": {
      "text/plain": [
       "''"
      ]
     },
     "execution_count": 14,
     "metadata": {},
     "output_type": "execute_result"
    }
   ],
   "source": [
    "\"\""
   ]
  },
  {
   "cell_type": "code",
   "execution_count": 16,
   "id": "64ef621b",
   "metadata": {},
   "outputs": [
    {
     "data": {
      "text/plain": [
       "False"
      ]
     },
     "execution_count": 16,
     "metadata": {},
     "output_type": "execute_result"
    }
   ],
   "source": [
    "True\n",
    "False"
   ]
  },
  {
   "cell_type": "code",
   "execution_count": 18,
   "id": "fcf50988",
   "metadata": {},
   "outputs": [
    {
     "data": {
      "text/plain": [
       "False"
      ]
     },
     "execution_count": 18,
     "metadata": {},
     "output_type": "execute_result"
    }
   ],
   "source": [
    "5>10"
   ]
  },
  {
   "cell_type": "code",
   "execution_count": 19,
   "id": "1ba872fd",
   "metadata": {},
   "outputs": [],
   "source": [
    "None"
   ]
  },
  {
   "cell_type": "code",
   "execution_count": 20,
   "id": "ee568315",
   "metadata": {},
   "outputs": [],
   "source": [
    "#Operadores"
   ]
  },
  {
   "cell_type": "code",
   "execution_count": 21,
   "id": "f6544ce9",
   "metadata": {},
   "outputs": [
    {
     "data": {
      "text/plain": [
       "7"
      ]
     },
     "execution_count": 21,
     "metadata": {},
     "output_type": "execute_result"
    }
   ],
   "source": [
    "5+2"
   ]
  },
  {
   "cell_type": "code",
   "execution_count": 22,
   "id": "dc8e2a16",
   "metadata": {},
   "outputs": [
    {
     "data": {
      "text/plain": [
       "7.391592"
      ]
     },
     "execution_count": 22,
     "metadata": {},
     "output_type": "execute_result"
    }
   ],
   "source": [
    "3.141592 + 4.25"
   ]
  },
  {
   "cell_type": "code",
   "execution_count": 23,
   "id": "dbbd91d4",
   "metadata": {},
   "outputs": [
    {
     "data": {
      "text/plain": [
       "'Hello world!'"
      ]
     },
     "execution_count": 23,
     "metadata": {},
     "output_type": "execute_result"
    }
   ],
   "source": [
    "\"Hello \" + \"world!\""
   ]
  },
  {
   "cell_type": "code",
   "execution_count": 24,
   "id": "e522eaf3",
   "metadata": {},
   "outputs": [
    {
     "data": {
      "text/plain": [
       "5"
      ]
     },
     "execution_count": 24,
     "metadata": {},
     "output_type": "execute_result"
    }
   ],
   "source": [
    "10-5"
   ]
  },
  {
   "cell_type": "code",
   "execution_count": 25,
   "id": "4a5fabaa",
   "metadata": {},
   "outputs": [
    {
     "data": {
      "text/plain": [
       "15"
      ]
     },
     "execution_count": 25,
     "metadata": {},
     "output_type": "execute_result"
    }
   ],
   "source": [
    "5*3"
   ]
  },
  {
   "cell_type": "code",
   "execution_count": 26,
   "id": "1c2cd1cd",
   "metadata": {},
   "outputs": [
    {
     "data": {
      "text/plain": [
       "'HelloHelloHelloHelloHello'"
      ]
     },
     "execution_count": 26,
     "metadata": {},
     "output_type": "execute_result"
    }
   ],
   "source": [
    "\"Hello\" * 5"
   ]
  },
  {
   "cell_type": "code",
   "execution_count": 27,
   "id": "a25cd3c0",
   "metadata": {},
   "outputs": [
    {
     "data": {
      "text/plain": [
       "23"
      ]
     },
     "execution_count": 27,
     "metadata": {},
     "output_type": "execute_result"
    }
   ],
   "source": [
    "3+4*5"
   ]
  },
  {
   "cell_type": "code",
   "execution_count": 28,
   "id": "9d603c1d",
   "metadata": {},
   "outputs": [
    {
     "data": {
      "text/plain": [
       "35"
      ]
     },
     "execution_count": 28,
     "metadata": {},
     "output_type": "execute_result"
    }
   ],
   "source": [
    "(3+4)*5"
   ]
  },
  {
   "cell_type": "code",
   "execution_count": 30,
   "id": "bb602d17",
   "metadata": {},
   "outputs": [
    {
     "data": {
      "text/plain": [
       "3.75"
      ]
     },
     "execution_count": 30,
     "metadata": {},
     "output_type": "execute_result"
    }
   ],
   "source": [
    "15/4"
   ]
  },
  {
   "cell_type": "code",
   "execution_count": 34,
   "id": "254f0432",
   "metadata": {},
   "outputs": [
    {
     "data": {
      "text/plain": [
       "3"
      ]
     },
     "execution_count": 34,
     "metadata": {},
     "output_type": "execute_result"
    }
   ],
   "source": [
    "10//3"
   ]
  },
  {
   "cell_type": "code",
   "execution_count": 35,
   "id": "352e333d",
   "metadata": {},
   "outputs": [
    {
     "data": {
      "text/plain": [
       "3"
      ]
     },
     "execution_count": 35,
     "metadata": {},
     "output_type": "execute_result"
    }
   ],
   "source": [
    "15%4"
   ]
  },
  {
   "cell_type": "code",
   "execution_count": 38,
   "id": "bb43f43c",
   "metadata": {},
   "outputs": [
    {
     "data": {
      "text/plain": [
       "True"
      ]
     },
     "execution_count": 38,
     "metadata": {},
     "output_type": "execute_result"
    }
   ],
   "source": [
    "1==1.0"
   ]
  },
  {
   "cell_type": "code",
   "execution_count": 40,
   "id": "ccd2c7bd",
   "metadata": {},
   "outputs": [
    {
     "data": {
      "text/plain": [
       "False"
      ]
     },
     "execution_count": 40,
     "metadata": {},
     "output_type": "execute_result"
    }
   ],
   "source": [
    "\"Hello\"==\"Hello\"\n",
    "\"Hello\" == \"world!\""
   ]
  },
  {
   "cell_type": "code",
   "execution_count": 44,
   "id": "b9d3a764",
   "metadata": {},
   "outputs": [
    {
     "data": {
      "text/plain": [
       "True"
      ]
     },
     "execution_count": 44,
     "metadata": {},
     "output_type": "execute_result"
    }
   ],
   "source": [
    "True==True\n",
    "False==True\n",
    "True==False\n",
    "False==False"
   ]
  },
  {
   "cell_type": "code",
   "execution_count": 46,
   "id": "2ecc0200",
   "metadata": {},
   "outputs": [
    {
     "data": {
      "text/plain": [
       "False"
      ]
     },
     "execution_count": 46,
     "metadata": {},
     "output_type": "execute_result"
    }
   ],
   "source": [
    "10 != 10"
   ]
  },
  {
   "cell_type": "code",
   "execution_count": 47,
   "id": "63a93621",
   "metadata": {},
   "outputs": [
    {
     "data": {
      "text/plain": [
       "False"
      ]
     },
     "execution_count": 47,
     "metadata": {},
     "output_type": "execute_result"
    }
   ],
   "source": [
    "10<5"
   ]
  },
  {
   "cell_type": "code",
   "execution_count": 50,
   "id": "a8fb0974",
   "metadata": {},
   "outputs": [
    {
     "data": {
      "text/plain": [
       "True"
      ]
     },
     "execution_count": 50,
     "metadata": {},
     "output_type": "execute_result"
    }
   ],
   "source": [
    "5<=5\n",
    "100>=99"
   ]
  },
  {
   "cell_type": "code",
   "execution_count": 51,
   "id": "87c1b6b0",
   "metadata": {},
   "outputs": [],
   "source": [
    "#Variables"
   ]
  },
  {
   "cell_type": "code",
   "execution_count": 53,
   "id": "a1494463",
   "metadata": {},
   "outputs": [],
   "source": [
    "age=30"
   ]
  },
  {
   "cell_type": "code",
   "execution_count": 54,
   "id": "6c304f24",
   "metadata": {},
   "outputs": [
    {
     "data": {
      "text/plain": [
       "30"
      ]
     },
     "execution_count": 54,
     "metadata": {},
     "output_type": "execute_result"
    }
   ],
   "source": [
    "age"
   ]
  },
  {
   "cell_type": "code",
   "execution_count": 55,
   "id": "cf603ed0",
   "metadata": {},
   "outputs": [
    {
     "data": {
      "text/plain": [
       "35"
      ]
     },
     "execution_count": 55,
     "metadata": {},
     "output_type": "execute_result"
    }
   ],
   "source": [
    "age + 5"
   ]
  },
  {
   "cell_type": "code",
   "execution_count": 56,
   "id": "30003833",
   "metadata": {},
   "outputs": [],
   "source": [
    "price=100\n",
    "first_name=\"Felipe\"\n",
    "is_valid=True"
   ]
  },
  {
   "cell_type": "code",
   "execution_count": 57,
   "id": "1422d732",
   "metadata": {},
   "outputs": [
    {
     "data": {
      "text/plain": [
       "100"
      ]
     },
     "execution_count": 57,
     "metadata": {},
     "output_type": "execute_result"
    }
   ],
   "source": [
    "price"
   ]
  },
  {
   "cell_type": "code",
   "execution_count": 58,
   "id": "ed979f1a",
   "metadata": {},
   "outputs": [
    {
     "data": {
      "text/plain": [
       "True"
      ]
     },
     "execution_count": 58,
     "metadata": {},
     "output_type": "execute_result"
    }
   ],
   "source": [
    "is_valid"
   ]
  },
  {
   "cell_type": "code",
   "execution_count": 60,
   "id": "67ec9cfc",
   "metadata": {},
   "outputs": [
    {
     "data": {
      "text/plain": [
       "'Felipe Castillo'"
      ]
     },
     "execution_count": 60,
     "metadata": {},
     "output_type": "execute_result"
    }
   ],
   "source": [
    "first_name + \" Castillo\""
   ]
  },
  {
   "cell_type": "code",
   "execution_count": 62,
   "id": "9b45b8e3",
   "metadata": {},
   "outputs": [],
   "source": [
    "age = age + 5"
   ]
  },
  {
   "cell_type": "code",
   "execution_count": 63,
   "id": "e281d68e",
   "metadata": {},
   "outputs": [
    {
     "data": {
      "text/plain": [
       "35"
      ]
     },
     "execution_count": 63,
     "metadata": {},
     "output_type": "execute_result"
    }
   ],
   "source": [
    "age"
   ]
  },
  {
   "cell_type": "code",
   "execution_count": 64,
   "id": "1265b19f",
   "metadata": {},
   "outputs": [],
   "source": [
    "#Funciones"
   ]
  },
  {
   "cell_type": "code",
   "execution_count": 65,
   "id": "1ddb55b5",
   "metadata": {},
   "outputs": [
    {
     "data": {
      "text/plain": [
       "12"
      ]
     },
     "execution_count": 65,
     "metadata": {},
     "output_type": "execute_result"
    }
   ],
   "source": [
    "len(\"Hello world!\")"
   ]
  },
  {
   "cell_type": "code",
   "execution_count": 66,
   "id": "dc813975",
   "metadata": {},
   "outputs": [
    {
     "data": {
      "text/plain": [
       "'3.141592'"
      ]
     },
     "execution_count": 66,
     "metadata": {},
     "output_type": "execute_result"
    }
   ],
   "source": [
    "str(3.141592)"
   ]
  },
  {
   "cell_type": "code",
   "execution_count": 67,
   "id": "fe0b2aec",
   "metadata": {},
   "outputs": [
    {
     "data": {
      "text/plain": [
       "10"
      ]
     },
     "execution_count": 67,
     "metadata": {},
     "output_type": "execute_result"
    }
   ],
   "source": [
    "int(\"10\")"
   ]
  },
  {
   "cell_type": "code",
   "execution_count": 69,
   "id": "bb5d6937",
   "metadata": {},
   "outputs": [
    {
     "data": {
      "text/plain": [
       "10"
      ]
     },
     "execution_count": 69,
     "metadata": {},
     "output_type": "execute_result"
    }
   ],
   "source": [
    "int(\"10\")"
   ]
  },
  {
   "cell_type": "code",
   "execution_count": 70,
   "id": "525acb4d",
   "metadata": {},
   "outputs": [
    {
     "data": {
      "text/plain": [
       "10.1234"
      ]
     },
     "execution_count": 70,
     "metadata": {},
     "output_type": "execute_result"
    }
   ],
   "source": [
    "float(\"10.1234\")"
   ]
  },
  {
   "cell_type": "code",
   "execution_count": 71,
   "id": "6bd9fd90",
   "metadata": {},
   "outputs": [
    {
     "data": {
      "text/plain": [
       "int"
      ]
     },
     "execution_count": 71,
     "metadata": {},
     "output_type": "execute_result"
    }
   ],
   "source": [
    "type(5)"
   ]
  },
  {
   "cell_type": "code",
   "execution_count": 72,
   "id": "183d885f",
   "metadata": {},
   "outputs": [
    {
     "data": {
      "text/plain": [
       "float"
      ]
     },
     "execution_count": 72,
     "metadata": {},
     "output_type": "execute_result"
    }
   ],
   "source": [
    "type(10.123)"
   ]
  },
  {
   "cell_type": "code",
   "execution_count": 73,
   "id": "be2f2aa6",
   "metadata": {},
   "outputs": [
    {
     "data": {
      "text/plain": [
       "str"
      ]
     },
     "execution_count": 73,
     "metadata": {},
     "output_type": "execute_result"
    }
   ],
   "source": [
    "type(\"Hello\")"
   ]
  },
  {
   "cell_type": "code",
   "execution_count": 74,
   "id": "c091a6a6",
   "metadata": {},
   "outputs": [
    {
     "data": {
      "text/plain": [
       "bool"
      ]
     },
     "execution_count": 74,
     "metadata": {},
     "output_type": "execute_result"
    }
   ],
   "source": [
    "type(True)"
   ]
  },
  {
   "cell_type": "code",
   "execution_count": 75,
   "id": "99e96419",
   "metadata": {},
   "outputs": [
    {
     "data": {
      "text/plain": [
       "True"
      ]
     },
     "execution_count": 75,
     "metadata": {},
     "output_type": "execute_result"
    }
   ],
   "source": [
    "type(10) == type(15)"
   ]
  },
  {
   "cell_type": "code",
   "execution_count": 76,
   "id": "2d36475b",
   "metadata": {},
   "outputs": [
    {
     "data": {
      "text/plain": [
       "False"
      ]
     },
     "execution_count": 76,
     "metadata": {},
     "output_type": "execute_result"
    }
   ],
   "source": [
    "type(10)==type(\"10\")"
   ]
  },
  {
   "cell_type": "code",
   "execution_count": 81,
   "id": "957e1789",
   "metadata": {},
   "outputs": [],
   "source": [
    "def convert_to_fah(celsius=0):\n",
    "    return celsius * 1.8 + 32"
   ]
  },
  {
   "cell_type": "code",
   "execution_count": 82,
   "id": "3aca0d9c",
   "metadata": {},
   "outputs": [
    {
     "data": {
      "text/plain": [
       "32.0"
      ]
     },
     "execution_count": 82,
     "metadata": {},
     "output_type": "execute_result"
    }
   ],
   "source": [
    "convert_to_fah()"
   ]
  },
  {
   "cell_type": "code",
   "execution_count": 83,
   "id": "721f1e9b",
   "metadata": {},
   "outputs": [],
   "source": [
    "#String"
   ]
  },
  {
   "cell_type": "code",
   "execution_count": 84,
   "id": "3b8cc562",
   "metadata": {},
   "outputs": [],
   "source": [
    "name=\"Felipe\""
   ]
  },
  {
   "cell_type": "code",
   "execution_count": 85,
   "id": "6daf4056",
   "metadata": {},
   "outputs": [
    {
     "data": {
      "text/plain": [
       "'FELIPE'"
      ]
     },
     "execution_count": 85,
     "metadata": {},
     "output_type": "execute_result"
    }
   ],
   "source": [
    "name.upper()"
   ]
  },
  {
   "cell_type": "code",
   "execution_count": 86,
   "id": "04b6ae02",
   "metadata": {},
   "outputs": [
    {
     "data": {
      "text/plain": [
       "'felipe'"
      ]
     },
     "execution_count": 86,
     "metadata": {},
     "output_type": "execute_result"
    }
   ],
   "source": [
    "name.lower()"
   ]
  },
  {
   "cell_type": "code",
   "execution_count": 87,
   "id": "e4a9894a",
   "metadata": {},
   "outputs": [
    {
     "data": {
      "text/plain": [
       "'fELIPE'"
      ]
     },
     "execution_count": 87,
     "metadata": {},
     "output_type": "execute_result"
    }
   ],
   "source": [
    "name.swapcase()"
   ]
  },
  {
   "cell_type": "code",
   "execution_count": 88,
   "id": "0ba19b92",
   "metadata": {},
   "outputs": [
    {
     "data": {
      "text/plain": [
       "'Once Upon A Time'"
      ]
     },
     "execution_count": 88,
     "metadata": {},
     "output_type": "execute_result"
    }
   ],
   "source": [
    "\"once upon a time\".title()"
   ]
  },
  {
   "cell_type": "code",
   "execution_count": 89,
   "id": "7a9ae49f",
   "metadata": {},
   "outputs": [
    {
     "data": {
      "text/plain": [
       "'Once upon a time'"
      ]
     },
     "execution_count": 89,
     "metadata": {},
     "output_type": "execute_result"
    }
   ],
   "source": [
    "\"once upon a time\".capitalize()"
   ]
  },
  {
   "cell_type": "code",
   "execution_count": 90,
   "id": "f0813478",
   "metadata": {},
   "outputs": [],
   "source": [
    "profession = \"        Developer         \""
   ]
  },
  {
   "cell_type": "code",
   "execution_count": 91,
   "id": "a0d19f66",
   "metadata": {},
   "outputs": [
    {
     "data": {
      "text/plain": [
       "'        Developer         '"
      ]
     },
     "execution_count": 91,
     "metadata": {},
     "output_type": "execute_result"
    }
   ],
   "source": [
    "profession"
   ]
  },
  {
   "cell_type": "code",
   "execution_count": 92,
   "id": "6db8c995",
   "metadata": {},
   "outputs": [
    {
     "data": {
      "text/plain": [
       "'Developer         '"
      ]
     },
     "execution_count": 92,
     "metadata": {},
     "output_type": "execute_result"
    }
   ],
   "source": [
    "profession.lstrip()"
   ]
  },
  {
   "cell_type": "code",
   "execution_count": 93,
   "id": "438ae568",
   "metadata": {},
   "outputs": [
    {
     "data": {
      "text/plain": [
       "'        Developer'"
      ]
     },
     "execution_count": 93,
     "metadata": {},
     "output_type": "execute_result"
    }
   ],
   "source": [
    "profession.rstrip()"
   ]
  },
  {
   "cell_type": "code",
   "execution_count": 94,
   "id": "dc4fded4",
   "metadata": {},
   "outputs": [
    {
     "data": {
      "text/plain": [
       "'Developer'"
      ]
     },
     "execution_count": 94,
     "metadata": {},
     "output_type": "execute_result"
    }
   ],
   "source": [
    "profession.strip()"
   ]
  },
  {
   "cell_type": "code",
   "execution_count": 95,
   "id": "5dd98e4c",
   "metadata": {},
   "outputs": [
    {
     "data": {
      "text/plain": [
       "'        D*v*lop*r         '"
      ]
     },
     "execution_count": 95,
     "metadata": {},
     "output_type": "execute_result"
    }
   ],
   "source": [
    "profession.replace(\"e\",\"*\")"
   ]
  },
  {
   "cell_type": "code",
   "execution_count": 96,
   "id": "3d3a6f5e",
   "metadata": {},
   "outputs": [
    {
     "data": {
      "text/plain": [
       "'Davalopar'"
      ]
     },
     "execution_count": 96,
     "metadata": {},
     "output_type": "execute_result"
    }
   ],
   "source": [
    "profession.strip().replace(\"e\",\"a\")"
   ]
  },
  {
   "cell_type": "code",
   "execution_count": 97,
   "id": "ac3375a8",
   "metadata": {},
   "outputs": [],
   "source": [
    "test=\"Hello world!\""
   ]
  },
  {
   "cell_type": "code",
   "execution_count": 98,
   "id": "e1d12765",
   "metadata": {},
   "outputs": [
    {
     "data": {
      "text/plain": [
       "True"
      ]
     },
     "execution_count": 98,
     "metadata": {},
     "output_type": "execute_result"
    }
   ],
   "source": [
    "test.startswith(\"He\")"
   ]
  },
  {
   "cell_type": "code",
   "execution_count": 100,
   "id": "5e0074b1",
   "metadata": {},
   "outputs": [
    {
     "data": {
      "text/plain": [
       "True"
      ]
     },
     "execution_count": 100,
     "metadata": {},
     "output_type": "execute_result"
    }
   ],
   "source": [
    "test.endswith(\"world!\")"
   ]
  },
  {
   "cell_type": "code",
   "execution_count": 101,
   "id": "20331cb4",
   "metadata": {},
   "outputs": [
    {
     "data": {
      "text/plain": [
       "True"
      ]
     },
     "execution_count": 101,
     "metadata": {},
     "output_type": "execute_result"
    }
   ],
   "source": [
    "\"llo\" in test"
   ]
  },
  {
   "cell_type": "code",
   "execution_count": 102,
   "id": "d704939a",
   "metadata": {},
   "outputs": [
    {
     "data": {
      "text/plain": [
       "False"
      ]
     },
     "execution_count": 102,
     "metadata": {},
     "output_type": "execute_result"
    }
   ],
   "source": [
    "\"llo\" not in test"
   ]
  },
  {
   "cell_type": "code",
   "execution_count": 103,
   "id": "dfaa2dcc",
   "metadata": {},
   "outputs": [],
   "source": [
    "#Listas"
   ]
  },
  {
   "cell_type": "code",
   "execution_count": 104,
   "id": "113603d8",
   "metadata": {},
   "outputs": [
    {
     "data": {
      "text/plain": [
       "[1, 2, 3, 4, 5]"
      ]
     },
     "execution_count": 104,
     "metadata": {},
     "output_type": "execute_result"
    }
   ],
   "source": [
    "[1, 2, 3, 4, 5]"
   ]
  },
  {
   "cell_type": "code",
   "execution_count": 105,
   "id": "1718b53d",
   "metadata": {},
   "outputs": [
    {
     "data": {
      "text/plain": [
       "[True, False, True]"
      ]
     },
     "execution_count": 105,
     "metadata": {},
     "output_type": "execute_result"
    }
   ],
   "source": [
    "[True, False, True]"
   ]
  },
  {
   "cell_type": "code",
   "execution_count": 106,
   "id": "a486eb9d",
   "metadata": {},
   "outputs": [],
   "source": [
    "days = [\"Monday\", \"Friday\"]"
   ]
  },
  {
   "cell_type": "code",
   "execution_count": 107,
   "id": "b308b35c",
   "metadata": {},
   "outputs": [
    {
     "data": {
      "text/plain": [
       "['Monday', 'Friday']"
      ]
     },
     "execution_count": 107,
     "metadata": {},
     "output_type": "execute_result"
    }
   ],
   "source": [
    "days"
   ]
  },
  {
   "cell_type": "code",
   "execution_count": 108,
   "id": "73ac1e76",
   "metadata": {},
   "outputs": [
    {
     "data": {
      "text/plain": [
       "2"
      ]
     },
     "execution_count": 108,
     "metadata": {},
     "output_type": "execute_result"
    }
   ],
   "source": [
    "len(days)"
   ]
  },
  {
   "cell_type": "code",
   "execution_count": 109,
   "id": "be143bd8",
   "metadata": {},
   "outputs": [
    {
     "data": {
      "text/plain": [
       "list"
      ]
     },
     "execution_count": 109,
     "metadata": {},
     "output_type": "execute_result"
    }
   ],
   "source": [
    "type(days)"
   ]
  },
  {
   "cell_type": "code",
   "execution_count": 110,
   "id": "134ebf78",
   "metadata": {},
   "outputs": [],
   "source": [
    "days.append(\"Saturday\")"
   ]
  },
  {
   "cell_type": "code",
   "execution_count": 111,
   "id": "796cc5cb",
   "metadata": {},
   "outputs": [
    {
     "data": {
      "text/plain": [
       "['Monday', 'Friday', 'Saturday']"
      ]
     },
     "execution_count": 111,
     "metadata": {},
     "output_type": "execute_result"
    }
   ],
   "source": [
    "days"
   ]
  },
  {
   "cell_type": "code",
   "execution_count": 112,
   "id": "c0263b8f",
   "metadata": {},
   "outputs": [
    {
     "data": {
      "text/plain": [
       "'Saturday'"
      ]
     },
     "execution_count": 112,
     "metadata": {},
     "output_type": "execute_result"
    }
   ],
   "source": [
    "days.pop()"
   ]
  },
  {
   "cell_type": "code",
   "execution_count": 113,
   "id": "d64709ad",
   "metadata": {},
   "outputs": [],
   "source": [
    "days.append(\"Sunday\")"
   ]
  },
  {
   "cell_type": "code",
   "execution_count": 114,
   "id": "4f90c4f6",
   "metadata": {},
   "outputs": [
    {
     "data": {
      "text/plain": [
       "['Monday', 'Friday', 'Sunday']"
      ]
     },
     "execution_count": 114,
     "metadata": {},
     "output_type": "execute_result"
    }
   ],
   "source": [
    "days"
   ]
  },
  {
   "cell_type": "code",
   "execution_count": 115,
   "id": "4d9bd3c5",
   "metadata": {},
   "outputs": [],
   "source": [
    "days.remove(\"Friday\")"
   ]
  },
  {
   "cell_type": "code",
   "execution_count": 116,
   "id": "2c23c364",
   "metadata": {},
   "outputs": [
    {
     "data": {
      "text/plain": [
       "['Monday', 'Sunday']"
      ]
     },
     "execution_count": 116,
     "metadata": {},
     "output_type": "execute_result"
    }
   ],
   "source": [
    "days"
   ]
  },
  {
   "cell_type": "code",
   "execution_count": 117,
   "id": "9eafa679",
   "metadata": {},
   "outputs": [
    {
     "data": {
      "text/plain": [
       "True"
      ]
     },
     "execution_count": 117,
     "metadata": {},
     "output_type": "execute_result"
    }
   ],
   "source": [
    "\"llo\" in \"Hello world!\""
   ]
  },
  {
   "cell_type": "code",
   "execution_count": 118,
   "id": "a500941b",
   "metadata": {},
   "outputs": [
    {
     "data": {
      "text/plain": [
       "True"
      ]
     },
     "execution_count": 118,
     "metadata": {},
     "output_type": "execute_result"
    }
   ],
   "source": [
    "\"Monday\" in days"
   ]
  },
  {
   "cell_type": "code",
   "execution_count": 119,
   "id": "8ebaa6dd",
   "metadata": {},
   "outputs": [
    {
     "data": {
      "text/plain": [
       "False"
      ]
     },
     "execution_count": 119,
     "metadata": {},
     "output_type": "execute_result"
    }
   ],
   "source": [
    "\"Saturday\" in days"
   ]
  },
  {
   "cell_type": "code",
   "execution_count": 120,
   "id": "21a4dfd5",
   "metadata": {},
   "outputs": [
    {
     "data": {
      "text/plain": [
       "True"
      ]
     },
     "execution_count": 120,
     "metadata": {},
     "output_type": "execute_result"
    }
   ],
   "source": [
    "\"Saturday\" not in days"
   ]
  },
  {
   "cell_type": "code",
   "execution_count": 121,
   "id": "1312cf18",
   "metadata": {},
   "outputs": [],
   "source": [
    "#indices"
   ]
  },
  {
   "cell_type": "code",
   "execution_count": 124,
   "id": "2d045873",
   "metadata": {},
   "outputs": [],
   "source": [
    "spiderman = \"Spiderman\""
   ]
  },
  {
   "cell_type": "code",
   "execution_count": 125,
   "id": "0b1aafa4",
   "metadata": {},
   "outputs": [
    {
     "data": {
      "text/plain": [
       "9"
      ]
     },
     "execution_count": 125,
     "metadata": {},
     "output_type": "execute_result"
    }
   ],
   "source": [
    "len(spiderman)"
   ]
  },
  {
   "cell_type": "code",
   "execution_count": 128,
   "id": "040133f5",
   "metadata": {},
   "outputs": [
    {
     "data": {
      "text/plain": [
       "'i'"
      ]
     },
     "execution_count": 128,
     "metadata": {},
     "output_type": "execute_result"
    }
   ],
   "source": [
    "spiderman[0]\n",
    "spiderman[1]\n",
    "spiderman[2]"
   ]
  },
  {
   "cell_type": "code",
   "execution_count": 131,
   "id": "a82efcf5",
   "metadata": {},
   "outputs": [
    {
     "data": {
      "text/plain": [
       "'m'"
      ]
     },
     "execution_count": 131,
     "metadata": {},
     "output_type": "execute_result"
    }
   ],
   "source": [
    "spiderman[-1]\n",
    "spiderman[-2]\n",
    "spiderman[-3]"
   ]
  },
  {
   "cell_type": "code",
   "execution_count": 133,
   "id": "c71ce75d",
   "metadata": {},
   "outputs": [
    {
     "data": {
      "text/plain": [
       "'pid'"
      ]
     },
     "execution_count": 133,
     "metadata": {},
     "output_type": "execute_result"
    }
   ],
   "source": [
    "spiderman[1:4]"
   ]
  },
  {
   "cell_type": "code",
   "execution_count": 134,
   "id": "4d48b7cb",
   "metadata": {},
   "outputs": [
    {
     "data": {
      "text/plain": [
       "'Spid'"
      ]
     },
     "execution_count": 134,
     "metadata": {},
     "output_type": "execute_result"
    }
   ],
   "source": [
    "spiderman[:4]"
   ]
  },
  {
   "cell_type": "code",
   "execution_count": 135,
   "id": "a6cbb6b8",
   "metadata": {},
   "outputs": [
    {
     "data": {
      "text/plain": [
       "'piderman'"
      ]
     },
     "execution_count": 135,
     "metadata": {},
     "output_type": "execute_result"
    }
   ],
   "source": [
    "spiderman[1:]"
   ]
  },
  {
   "cell_type": "code",
   "execution_count": 136,
   "id": "a92913a9",
   "metadata": {},
   "outputs": [
    {
     "data": {
      "text/plain": [
       "'Spiderman'"
      ]
     },
     "execution_count": 136,
     "metadata": {},
     "output_type": "execute_result"
    }
   ],
   "source": [
    "spiderman[:]"
   ]
  },
  {
   "cell_type": "code",
   "execution_count": 137,
   "id": "e9e54352",
   "metadata": {},
   "outputs": [],
   "source": [
    "#Dictionaries"
   ]
  },
  {
   "cell_type": "code",
   "execution_count": 138,
   "id": "4a94ef55",
   "metadata": {},
   "outputs": [],
   "source": [
    "cart = {\n",
    "    \"shoes\" : 85,\n",
    "    \"tennis\": 70,\n",
    "    \"pants\": 40\n",
    "}"
   ]
  },
  {
   "cell_type": "code",
   "execution_count": 139,
   "id": "fc6d8023",
   "metadata": {},
   "outputs": [
    {
     "data": {
      "text/plain": [
       "{'shoes': 85, 'tennis': 70, 'pants': 40}"
      ]
     },
     "execution_count": 139,
     "metadata": {},
     "output_type": "execute_result"
    }
   ],
   "source": [
    "cart"
   ]
  },
  {
   "cell_type": "code",
   "execution_count": 140,
   "id": "efbb8f66",
   "metadata": {},
   "outputs": [
    {
     "data": {
      "text/plain": [
       "3"
      ]
     },
     "execution_count": 140,
     "metadata": {},
     "output_type": "execute_result"
    }
   ],
   "source": [
    "len(cart)"
   ]
  },
  {
   "cell_type": "code",
   "execution_count": 141,
   "id": "51313336",
   "metadata": {},
   "outputs": [
    {
     "data": {
      "text/plain": [
       "70"
      ]
     },
     "execution_count": 141,
     "metadata": {},
     "output_type": "execute_result"
    }
   ],
   "source": [
    "cart[\"tennis\"]"
   ]
  },
  {
   "cell_type": "code",
   "execution_count": 144,
   "id": "f7798959",
   "metadata": {},
   "outputs": [],
   "source": [
    "cart[\"book\"] = 25"
   ]
  },
  {
   "cell_type": "code",
   "execution_count": 145,
   "id": "9b178e29",
   "metadata": {},
   "outputs": [
    {
     "data": {
      "text/plain": [
       "{'shoes': 85, 'tennis': 70, 'pants': 40, 'book': 25}"
      ]
     },
     "execution_count": 145,
     "metadata": {},
     "output_type": "execute_result"
    }
   ],
   "source": [
    "cart"
   ]
  },
  {
   "cell_type": "code",
   "execution_count": 146,
   "id": "cc3eab2a",
   "metadata": {},
   "outputs": [],
   "source": [
    "cart[\"tennis\"]=90"
   ]
  },
  {
   "cell_type": "code",
   "execution_count": 147,
   "id": "d571036c",
   "metadata": {},
   "outputs": [
    {
     "data": {
      "text/plain": [
       "{'shoes': 85, 'tennis': 90, 'pants': 40, 'book': 25}"
      ]
     },
     "execution_count": 147,
     "metadata": {},
     "output_type": "execute_result"
    }
   ],
   "source": [
    "cart"
   ]
  },
  {
   "cell_type": "code",
   "execution_count": 148,
   "id": "94b5deda",
   "metadata": {},
   "outputs": [
    {
     "data": {
      "text/plain": [
       "40"
      ]
     },
     "execution_count": 148,
     "metadata": {},
     "output_type": "execute_result"
    }
   ],
   "source": [
    "cart.pop(\"pants\")"
   ]
  },
  {
   "cell_type": "code",
   "execution_count": 149,
   "id": "39763466",
   "metadata": {},
   "outputs": [
    {
     "data": {
      "text/plain": [
       "{'shoes': 85, 'tennis': 90, 'book': 25}"
      ]
     },
     "execution_count": 149,
     "metadata": {},
     "output_type": "execute_result"
    }
   ],
   "source": [
    "cart"
   ]
  },
  {
   "cell_type": "code",
   "execution_count": 150,
   "id": "40221902",
   "metadata": {},
   "outputs": [
    {
     "data": {
      "text/plain": [
       "True"
      ]
     },
     "execution_count": 150,
     "metadata": {},
     "output_type": "execute_result"
    }
   ],
   "source": [
    "\"tennis\" in cart"
   ]
  },
  {
   "cell_type": "code",
   "execution_count": 152,
   "id": "12b0f9e5",
   "metadata": {},
   "outputs": [
    {
     "data": {
      "text/plain": [
       "True"
      ]
     },
     "execution_count": 152,
     "metadata": {},
     "output_type": "execute_result"
    }
   ],
   "source": [
    "\"pencil\" not in cart"
   ]
  },
  {
   "cell_type": "code",
   "execution_count": 153,
   "id": "c579f062",
   "metadata": {},
   "outputs": [
    {
     "data": {
      "text/plain": [
       "{'shoes': 85, 'tennis': 90, 'book': 25}"
      ]
     },
     "execution_count": 153,
     "metadata": {},
     "output_type": "execute_result"
    }
   ],
   "source": [
    "cart"
   ]
  },
  {
   "cell_type": "code",
   "execution_count": 154,
   "id": "ea7659ca",
   "metadata": {},
   "outputs": [
    {
     "data": {
      "text/plain": [
       "85"
      ]
     },
     "execution_count": 154,
     "metadata": {},
     "output_type": "execute_result"
    }
   ],
   "source": [
    "cart[\"shoes\"]"
   ]
  },
  {
   "cell_type": "code",
   "execution_count": 155,
   "id": "45991406",
   "metadata": {},
   "outputs": [
    {
     "data": {
      "text/plain": [
       "dict_values([85, 90, 25])"
      ]
     },
     "execution_count": 155,
     "metadata": {},
     "output_type": "execute_result"
    }
   ],
   "source": [
    "cart.values()"
   ]
  },
  {
   "cell_type": "code",
   "execution_count": 156,
   "id": "9db5127e",
   "metadata": {},
   "outputs": [
    {
     "data": {
      "text/plain": [
       "True"
      ]
     },
     "execution_count": 156,
     "metadata": {},
     "output_type": "execute_result"
    }
   ],
   "source": [
    "90 in cart.values()"
   ]
  },
  {
   "cell_type": "code",
   "execution_count": null,
   "id": "84ff2c0f",
   "metadata": {},
   "outputs": [],
   "source": []
  }
 ],
 "metadata": {
  "kernelspec": {
   "display_name": "Python 3 (ipykernel)",
   "language": "python",
   "name": "python3"
  },
  "language_info": {
   "codemirror_mode": {
    "name": "ipython",
    "version": 3
   },
   "file_extension": ".py",
   "mimetype": "text/x-python",
   "name": "python",
   "nbconvert_exporter": "python",
   "pygments_lexer": "ipython3",
   "version": "3.10.10"
  }
 },
 "nbformat": 4,
 "nbformat_minor": 5
}
